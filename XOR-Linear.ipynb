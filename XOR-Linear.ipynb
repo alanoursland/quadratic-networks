{
 "cells": [
  {
   "cell_type": "code",
   "execution_count": 56,
   "id": "0cecbd4b",
   "metadata": {},
   "outputs": [],
   "source": [
    "# import libraries \n",
    "import torch\n",
    "import torch.nn as nn\n",
    "from torch.autograd import Variable"
   ]
  },
  {
   "cell_type": "code",
   "execution_count": 57,
   "id": "ee3ab2ae",
   "metadata": {},
   "outputs": [
    {
     "name": "stdout",
     "output_type": "stream",
     "text": [
      "cuda:0\n"
     ]
    }
   ],
   "source": [
    "device = torch.device(\"cuda:0\" if torch.cuda.is_available() else \"cpu\")\n",
    "print(device)"
   ]
  },
  {
   "cell_type": "code",
   "execution_count": 58,
   "id": "5390290a",
   "metadata": {},
   "outputs": [],
   "source": [
    "# create data\n",
    "Xs = torch.Tensor([[0., 0.],\n",
    "               [0., 1.],\n",
    "               [1., 0.],\n",
    "               [1., 1.]])\n",
    "\n",
    "y = torch.Tensor([0., 1., 1., 0.]).reshape(Xs.shape[0], 1)"
   ]
  },
  {
   "cell_type": "code",
   "execution_count": 91,
   "id": "4487fcc9",
   "metadata": {},
   "outputs": [],
   "source": [
    "class XOR(nn.Module):\n",
    "    def __init__(self):\n",
    "        super(XOR, self).__init__()\n",
    "        self.layer_stack = nn.Sequential(\n",
    "            nn.Linear(2, 2),\n",
    "            nn.Sigmoid(),\n",
    "            nn.Linear(2, 1),\n",
    "        )\n",
    "\n",
    "    def forward(self, x):\n",
    "        yh = self.layer_stack(x)\n",
    "        return yh"
   ]
  },
  {
   "cell_type": "code",
   "execution_count": 113,
   "id": "3ad94b8a",
   "metadata": {},
   "outputs": [],
   "source": [
    "xor_network = XOR()"
   ]
  },
  {
   "cell_type": "code",
   "execution_count": 114,
   "id": "4a9fd9d0",
   "metadata": {},
   "outputs": [],
   "source": [
    "Xs = Xs.to(device)\n",
    "y = y.to(device)\n",
    "xor_network = xor_network.to(device)"
   ]
  },
  {
   "cell_type": "code",
   "execution_count": 115,
   "id": "5173abaf",
   "metadata": {},
   "outputs": [
    {
     "name": "stdout",
     "output_type": "stream",
     "text": [
      "Epoch: 0 completed\n",
      "Epoch: 100 completed\n",
      "Epoch: 200 completed\n",
      "Epoch: 300 completed\n",
      "Epoch: 400 completed\n",
      "Epoch: 500 completed\n",
      "Epoch: 600 completed\n",
      "Epoch: 700 completed\n",
      "Epoch: 800 completed\n",
      "Epoch: 900 completed\n"
     ]
    }
   ],
   "source": [
    "epochs = 1000 \n",
    "mseloss = nn.MSELoss() \n",
    "optimizer = torch.optim.Adam(xor_network.parameters(), lr = 0.03) \n",
    "all_losses = [] \n",
    "current_loss = 0 \n",
    "plot_every = 50 \n",
    " \n",
    "for epoch in range(epochs): \n",
    "   \n",
    "    # input training example and return the prediction   \n",
    "    yhat = xor_network.forward(Xs)\n",
    "    \n",
    "    # calculate MSE loss   \n",
    "    loss = mseloss(yhat, y)\n",
    "      \n",
    "    # backpropogate through the loss gradiants   \n",
    "    loss.backward()\n",
    "    \n",
    "    # update model weights   \n",
    "    optimizer.step()\n",
    "    \n",
    "    # remove current gradients for next iteration   \n",
    "    optimizer.zero_grad() \n",
    "   \n",
    "    # append to loss   \n",
    "    current_loss += loss  \n",
    " \n",
    "    if epoch % plot_every == 0:\n",
    "        all_losses.append((current_loss / plot_every).item())       \n",
    "        current_loss = 0 \n",
    "     \n",
    "    # print progress   \n",
    "    if epoch % 100 == 0:     \n",
    "        print(f'Epoch: {epoch} completed')      "
   ]
  },
  {
   "cell_type": "code",
   "execution_count": 116,
   "id": "38f14385",
   "metadata": {},
   "outputs": [
    {
     "data": {
      "image/png": "[encoded data removed]",
      "text/plain": [
       "<Figure size 432x288 with 1 Axes>"
      ]
     },
     "metadata": {
      "needs_background": "light"
     },
     "output_type": "display_data"
    }
   ],
   "source": [
    "import matplotlib.pyplot as plt\n",
    "plt.plot(all_losses)\n",
    "plt.ylabel('Loss')\n",
    "plt.show()"
   ]
  },
  {
   "cell_type": "code",
   "execution_count": 112,
   "id": "fbb1e5d3",
   "metadata": {},
   "outputs": [
    {
     "data": {
      "text/plain": [
       "[0.016794314607977867,\n",
       " 0.2960636019706726,\n",
       " 0.2482893317937851,\n",
       " 0.24191874265670776,\n",
       " 0.21509765088558197,\n",
       " 0.15570835769176483,\n",
       " 0.05484561249613762,\n",
       " 0.0023229653015732765,\n",
       " 1.5824600723135518e-06,\n",
       " 2.2435928315189813e-07,\n",
       " 9.531369471460494e-08,\n",
       " 1.3366205564580014e-07,\n",
       " 9.731781602795309e-08,\n",
       " 9.232889652821541e-08,\n",
       " 9.346068452487089e-08,\n",
       " 1.1213352735239823e-07,\n",
       " 9.740946183001142e-08,\n",
       " 9.77333058926888e-08,\n",
       " 1.0773776892847309e-07,\n",
       " 1.0235934411184644e-07]"
      ]
     },
     "execution_count": 112,
     "metadata": {},
     "output_type": "execute_result"
    }
   ],
   "source": [
    "all_losses"
   ]
  },
  {
   "cell_type": "code",
   "execution_count": 49,
   "id": "787a0043",
   "metadata": {},
   "outputs": [
    {
     "data": {
      "text/plain": [
       "tensor([[0.0000e+00],\n",
       "        [1.0000e+00],\n",
       "        [1.0000e+00],\n",
       "        [1.4901e-08]], grad_fn=<AddmmBackward0>)"
      ]
     },
     "execution_count": 49,
     "metadata": {},
     "output_type": "execute_result"
    }
   ],
   "source": [
    "xor_network.forward(Xs)"
   ]
  },
  {
   "cell_type": "code",
   "execution_count": 51,
   "id": "1cb847a7",
   "metadata": {},
   "outputs": [
    {
     "name": "stdout",
     "output_type": "stream",
     "text": [
      "Parameter containing:\n",
      "tensor([[-2.6203, -2.6238],\n",
      "        [-5.4236, -5.4606]], requires_grad=True)\n",
      "Parameter containing:\n",
      "tensor([3.3443, 1.6079], requires_grad=True)\n",
      "Parameter containing:\n",
      "tensor([[ 1.9163, -1.9227]], requires_grad=True)\n",
      "Parameter containing:\n",
      "tensor([-0.2492], requires_grad=True)\n"
     ]
    }
   ],
   "source": [
    "print(xor_network.layer_stack[0].weight)\n",
    "print(xor_network.layer_stack[0].bias)\n",
    "print(xor_network.layer_stack[2].weight)\n",
    "print(xor_network.layer_stack[2].bias)"
   ]
  },
  {
   "cell_type": "code",
   "execution_count": 52,
   "id": "b548be9a",
   "metadata": {},
   "outputs": [
    {
     "data": {
      "text/plain": [
       "False"
      ]
     },
     "execution_count": 52,
     "metadata": {},
     "output_type": "execute_result"
    }
   ],
   "source": [
    "Xs.is_cuda"
   ]
  },
  {
   "cell_type": "code",
   "execution_count": null,
   "id": "41eb282c",
   "metadata": {},
   "outputs": [],
   "source": [
    "X"
   ]
  }
 ],
 "metadata": {
  "kernelspec": {
   "display_name": "Python 3 (ipykernel)",
   "language": "python",
   "name": "python3"
  },
  "language_info": {
   "codemirror_mode": {
    "name": "ipython",
    "version": 3
   },
   "file_extension": ".py",
   "mimetype": "text/x-python",
   "name": "python",
   "nbconvert_exporter": "python",
   "pygments_lexer": "ipython3",
   "version": "3.9.7"
  }
 },
 "nbformat": 4,
 "nbformat_minor": 5
}

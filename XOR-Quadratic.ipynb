{
 "cells": [
  {
   "cell_type": "code",
   "execution_count": 1,
   "id": "b03e2413",
   "metadata": {},
   "outputs": [],
   "source": [
    "# import libraries \n",
    "import torch\n",
    "import torch.nn as nn\n",
    "from torch.autograd import Variable"
   ]
  },
  {
   "cell_type": "code",
   "execution_count": 2,
   "id": "ee3ab2ae",
   "metadata": {},
   "outputs": [
    {
     "name": "stdout",
     "output_type": "stream",
     "text": [
      "cuda:0\n"
     ]
    }
   ],
   "source": [
    "device = torch.device(\"cuda:0\" if torch.cuda.is_available() else \"cpu\")\n",
    "print(device)"
   ]
  },
  {
   "cell_type": "code",
   "execution_count": 47,
   "id": "fcefe2bd",
   "metadata": {},
   "outputs": [],
   "source": [
    "# create data\n",
    "Xs = torch.Tensor([[0., 0.],\n",
    "               [0., 1.],\n",
    "               [1., 0.],\n",
    "               [1., 1.]])\n",
    "\n",
    "y = torch.Tensor([0., 1., 1., 0.]).reshape(Xs.shape[0], 1)"
   ]
  },
  {
   "cell_type": "code",
   "execution_count": 62,
   "id": "5390290a",
   "metadata": {},
   "outputs": [],
   "source": [
    "class Quadratic(nn.Module):\n",
    "    \"\"\" Custom layer that maps [x] -> [x^2, x]\"\"\"\n",
    "    def __init__(self):\n",
    "        super().__init__()\n",
    "    \n",
    "    def forward(self, x):\n",
    "        return torch.cat((torch.square(x), x), 1)    "
   ]
  },
  {
   "cell_type": "code",
   "execution_count": 63,
   "id": "4487fcc9",
   "metadata": {},
   "outputs": [],
   "source": [
    "class XOR(nn.Module):\n",
    "    def __init__(self):\n",
    "        super(XOR, self).__init__()\n",
    "        self.layer_stack = nn.Sequential(\n",
    "            nn.Linear(2, 1),           \n",
    "            Quadratic(),\n",
    "            nn.Linear(2, 1),       \n",
    "        )\n",
    "\n",
    "    def forward(self, x):\n",
    "        yh = self.layer_stack(x)\n",
    "        return yh"
   ]
  },
  {
   "cell_type": "code",
   "execution_count": 75,
   "id": "67ffb42b",
   "metadata": {},
   "outputs": [],
   "source": [
    "xor_network = XOR()"
   ]
  },
  {
   "cell_type": "code",
   "execution_count": 76,
   "id": "4a9fd9d0",
   "metadata": {},
   "outputs": [],
   "source": [
    "Xs = Xs.to(device)\n",
    "y = y.to(device)\n",
    "xor_network = xor_network.to(device)"
   ]
  },
  {
   "cell_type": "code",
   "execution_count": 77,
   "id": "5173abaf",
   "metadata": {},
   "outputs": [
    {
     "name": "stdout",
     "output_type": "stream",
     "text": [
      "Epoch: 0 completed\n",
      "Epoch: 100 completed\n",
      "Epoch: 200 completed\n",
      "Epoch: 300 completed\n",
      "Epoch: 400 completed\n",
      "Epoch: 500 completed\n",
      "Epoch: 600 completed\n",
      "Epoch: 700 completed\n",
      "Epoch: 800 completed\n",
      "Epoch: 900 completed\n"
     ]
    }
   ],
   "source": [
    "epochs = 1000 \n",
    "mseloss = nn.MSELoss() \n",
    "optimizer = torch.optim.Adam(xor_network.parameters(), lr = 0.03) \n",
    "all_losses = [] \n",
    "current_loss = 0 \n",
    "plot_every = 50 \n",
    " \n",
    "for epoch in range(epochs): \n",
    "   \n",
    "    # input training example and return the prediction   \n",
    "    yhat = xor_network.forward(Xs)\n",
    "    \n",
    "    # calculate MSE loss   \n",
    "    loss = mseloss(yhat, y)\n",
    "      \n",
    "    # backpropogate through the loss gradiants   \n",
    "    loss.backward()\n",
    "    \n",
    "    # update model weights   \n",
    "    optimizer.step()\n",
    "    \n",
    "    # remove current gradients for next iteration   \n",
    "    optimizer.zero_grad() \n",
    "   \n",
    "    # append to loss   \n",
    "    current_loss += loss  \n",
    " \n",
    "    if epoch % plot_every == 0:\n",
    "        all_losses.append((current_loss / plot_every).item())       \n",
    "        current_loss = 0 \n",
    "     \n",
    "    # print progress   \n",
    "    if epoch % 100 == 0:     \n",
    "        print(f'Epoch: {epoch} completed')"
   ]
  },
  {
   "cell_type": "code",
   "execution_count": 78,
   "id": "38f14385",
   "metadata": {},
   "outputs": [
    {
     "data": {
      "image/png": "[encoded data removed]",
      "text/plain": [
       "<Figure size 432x288 with 1 Axes>"
      ]
     },
     "metadata": {
      "needs_background": "light"
     },
     "output_type": "display_data"
    }
   ],
   "source": [
    "import matplotlib.pyplot as plt\n",
    "plt.plot(all_losses)\n",
    "plt.ylabel('Loss')\n",
    "plt.show()"
   ]
  },
  {
   "cell_type": "code",
   "execution_count": 79,
   "id": "fbb1e5d3",
   "metadata": {},
   "outputs": [
    {
     "data": {
      "text/plain": [
       "[0.010840914212167263,\n",
       " 0.1815599799156189,\n",
       " 0.002408345229923725,\n",
       " 2.7033402147935703e-05,\n",
       " 2.6903879302153655e-07,\n",
       " 1.2154752937476587e-07,\n",
       " 1.305439809584641e-07,\n",
       " 1.4478824539310153e-07,\n",
       " 1.5535982811343274e-07,\n",
       " 1.599004946228888e-07,\n",
       " 1.4913973700458882e-07,\n",
       " 1.5920835494398489e-07,\n",
       " 1.2631674906060653e-07,\n",
       " 2.295803227525539e-07,\n",
       " 1.7394852136476402e-07,\n",
       " 1.3792954689506587e-07,\n",
       " 1.3715897750898876e-07,\n",
       " 1.4575734041955002e-07,\n",
       " 1.496384385291094e-07,\n",
       " 1.2134735527524754e-07]"
      ]
     },
     "execution_count": 79,
     "metadata": {},
     "output_type": "execute_result"
    }
   ],
   "source": [
    "all_losses"
   ]
  },
  {
   "cell_type": "code",
   "execution_count": 74,
   "id": "96ee3109",
   "metadata": {},
   "outputs": [
    {
     "data": {
      "text/plain": [
       "tensor([[-2.1762e-04],\n",
       "        [ 9.9995e-01],\n",
       "        [ 9.9996e-01],\n",
       "        [ 5.1874e-04]], device='cuda:0', grad_fn=<AddmmBackward0>)"
      ]
     },
     "execution_count": 74,
     "metadata": {},
     "output_type": "execute_result"
    }
   ],
   "source": [
    "xor_network.forward(Xs)"
   ]
  },
  {
   "cell_type": "code",
   "execution_count": 46,
   "id": "b63d0802",
   "metadata": {},
   "outputs": [
    {
     "data": {
      "text/plain": [
       "tensor([[ 1.,  1., -1., -1.],\n",
       "        [ 1.,  1., -1.,  1.],\n",
       "        [ 1.,  1.,  1., -1.],\n",
       "        [ 1.,  1.,  1.,  1.]])"
      ]
     },
     "execution_count": 46,
     "metadata": {},
     "output_type": "execute_result"
    }
   ],
   "source": [
    "Quadratic().forward(Xs)"
   ]
  },
  {
   "cell_type": "raw",
   "id": "dd4ccdef",
   "metadata": {},
   "source": []
  }
 ],
 "metadata": {
  "kernelspec": {
   "display_name": "Python 3 (ipykernel)",
   "language": "python",
   "name": "python3"
  },
  "language_info": {
   "codemirror_mode": {
    "name": "ipython",
    "version": 3
   },
   "file_extension": ".py",
   "mimetype": "text/x-python",
   "name": "python",
   "nbconvert_exporter": "python",
   "pygments_lexer": "ipython3",
   "version": "3.9.7"
  }
 },
 "nbformat": 4,
 "nbformat_minor": 5
}
